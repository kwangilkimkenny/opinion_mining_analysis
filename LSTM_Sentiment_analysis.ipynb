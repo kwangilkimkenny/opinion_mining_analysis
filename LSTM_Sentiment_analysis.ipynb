{
 "cells": [
  {
   "cell_type": "markdown",
   "metadata": {},
   "source": [
    "## 순환신경망 구현 및 학습"
   ]
  },
  {
   "cell_type": "code",
   "execution_count": 1,
   "metadata": {},
   "outputs": [],
   "source": [
    "import tensorflow as tf"
   ]
  },
  {
   "cell_type": "markdown",
   "metadata": {},
   "source": [
    "## 하이퍼 파라미터"
   ]
  },
  {
   "cell_type": "code",
   "execution_count": 2,
   "metadata": {},
   "outputs": [],
   "source": [
    "EPOCHS = 10\n",
    "NUM_WORDS = 10000"
   ]
  },
  {
   "cell_type": "markdown",
   "metadata": {},
   "source": [
    "## 모델 정의"
   ]
  },
  {
   "cell_type": "code",
   "execution_count": 18,
   "metadata": {},
   "outputs": [],
   "source": [
    "class MyModel(tf.keras.Model) : \n",
    "    def __init__(self) : \n",
    "        super(MyModel, self).__init__()\n",
    "        self.emb = tf.keras.layers.Embedding(NUM_WORDS,16)\n",
    "        self.rnn = tf.keras.layers.LSTM(128,dropout=0.2, recurrent_dropout=0.2)\n",
    "        self.dense = tf.keras.layers.Dense(1, activation='sigmoid')\n",
    "        \n",
    "    def call(self, x, training=None, mask=None):\n",
    "        x = self.emb(x)\n",
    "        x = self.rnn(x)\n",
    "        return self.dense(x)"
   ]
  },
  {
   "cell_type": "code",
   "execution_count": 4,
   "metadata": {},
   "outputs": [],
   "source": [
    "@tf.function\n",
    "def train_step(model, inputs, labels, loss_object,optimizer, train_loss, train_accuracy):\n",
    "    with tf.GradientTape() as tape : \n",
    "        predictions = model(inputs, training=True)\n",
    "        loss = loss_object(labels,predictions)\n",
    "        \n",
    "    gradients = tape.gradient(loss,model.trainable_variables)\n",
    "    \n",
    "    optimizer.apply_gradients(zip(gradients, model.trainable_variables))\n",
    "    train_loss(loss)\n",
    "    train_accuracy(labels,predictions)\n",
    "    \n",
    "@tf.function\n",
    "def test_step(model,inputs, labels, loss_object, test_loss, test_accuracy) : \n",
    "    predictions = model(inputs, training=False)\n",
    "    \n",
    "    t_loss = loss_object(labels, predictions)\n",
    "    test_loss(t_loss)\n",
    "    test_accuracy(labels, predictions)\n"
   ]
  },
  {
   "cell_type": "markdown",
   "metadata": {},
   "source": [
    "## 데이터셋 준비\n"
   ]
  },
  {
   "cell_type": "code",
   "execution_count": 5,
   "metadata": {},
   "outputs": [],
   "source": [
    "imdb = tf.keras.datasets.imdb\n",
    "(x_train, y_train), (x_test,y_test) = imdb.load_data(num_words=NUM_WORDS)"
   ]
  },
  {
   "cell_type": "code",
   "execution_count": 9,
   "metadata": {},
   "outputs": [
    {
     "name": "stdout",
     "output_type": "stream",
     "text": [
      "[[  30 5535   18 ...   19  178   32]\n",
      " [   9    6  371 ...   16  145   95]\n",
      " [   4   22   47 ...    7  129  113]\n",
      " ...\n",
      " [ 139  929 2901 ...    4 3586    2]\n",
      " [ 145    5  202 ...   12    9   23]\n",
      " [  21   60   27 ...  204  131    9]]\n"
     ]
    }
   ],
   "source": [
    "print(x_train)"
   ]
  },
  {
   "cell_type": "code",
   "execution_count": 6,
   "metadata": {},
   "outputs": [],
   "source": [
    "x_train = tf.keras.preprocessing.sequence.pad_sequences(x_train,\n",
    "                                                       value=0,\n",
    "                                                       padding='pre',\n",
    "                                                       maxlen=32)\n",
    "\n",
    "x_test = tf.keras.preprocessing.sequence.pad_sequences(x_test,\n",
    "                                                       value=0,\n",
    "                                                       padding='pre',\n",
    "                                                       maxlen=32)\n",
    "\n",
    "train_ds = tf.data.Dataset.from_tensor_slices((x_train,y_train)).shuffle(10000).batch(32)\n",
    "test_ds = tf.data.Dataset.from_tensor_slices((x_test,y_test)).batch(32)"
   ]
  },
  {
   "cell_type": "markdown",
   "metadata": {},
   "source": [
    "## 모델 생성"
   ]
  },
  {
   "cell_type": "code",
   "execution_count": 7,
   "metadata": {},
   "outputs": [],
   "source": [
    "model = MyModel()\n",
    "\n",
    "loss_object = tf.keras.losses.SparseCategoricalCrossentropy()\n",
    "optimizer = tf.keras.optimizers.Adam()\n",
    "\n",
    "train_loss = tf.keras.metrics.Mean(name='train_loss')\n",
    "train_accuracy = tf.keras.metrics.SparseCategoricalAccuracy(name='train_accuracy')\n",
    "\n",
    "test_loss = tf.keras.metrics.Mean(name='test_loss')\n",
    "test_accuracy = tf.keras.metrics.SparseCategoricalAccuracy(name='test_accuracy')\n",
    "\n"
   ]
  },
  {
   "cell_type": "markdown",
   "metadata": {},
   "source": [
    "## 학습 루프 동작"
   ]
  },
  {
   "cell_type": "code",
   "execution_count": 8,
   "metadata": {},
   "outputs": [
    {
     "name": "stdout",
     "output_type": "stream",
     "text": [
      "Epoch 1 Loss: 0.5229719281196594, Accuracy : 72.93199920654297, Test loss: 0.44374436140060425, Test Accuracy: 78.89999389648438\n",
      "Epoch 2 Loss: 0.35815495252609253, Accuracy : 84.47999572753906, Test loss: 0.4748471975326538, Test Accuracy: 78.02400207519531\n",
      "Epoch 3 Loss: 0.20977844297885895, Accuracy : 91.8239974975586, Test loss: 0.6019107103347778, Test Accuracy: 76.86000061035156\n",
      "Epoch 4 Loss: 0.0881834402680397, Accuracy : 97.04000091552734, Test loss: 0.8148474097251892, Test Accuracy: 74.23200225830078\n",
      "Epoch 5 Loss: 0.03751372545957565, Accuracy : 98.85600280761719, Test loss: 1.0285437107086182, Test Accuracy: 74.38399505615234\n",
      "Epoch 6 Loss: 0.020614685490727425, Accuracy : 99.37999725341797, Test loss: 1.1488250494003296, Test Accuracy: 74.06800079345703\n",
      "Epoch 7 Loss: 0.01727299764752388, Accuracy : 99.41200256347656, Test loss: 1.2435027360916138, Test Accuracy: 73.83599853515625\n",
      "Epoch 8 Loss: 0.017817215994000435, Accuracy : 99.41600036621094, Test loss: 1.3100353479385376, Test Accuracy: 73.67200469970703\n",
      "Epoch 9 Loss: 0.01488118153065443, Accuracy : 99.5479965209961, Test loss: 1.3520526885986328, Test Accuracy: 73.89199829101562\n",
      "Epoch 10 Loss: 0.012535029090940952, Accuracy : 99.58799743652344, Test loss: 1.579798698425293, Test Accuracy: 74.43199920654297\n"
     ]
    }
   ],
   "source": [
    "for epoch in range(EPOCHS) : \n",
    "    \n",
    "    for seqs, labels in train_ds : \n",
    "        train_step(model, seqs, labels, loss_object, optimizer, train_loss,train_accuracy)\n",
    "        \n",
    "    for seqs, test_labels in test_ds : \n",
    "        test_step(model, seqs, test_labels,loss_object,test_loss, test_accuracy)\n",
    "        \n",
    "    template = 'Epoch {} Loss: {}, Accuracy : {}, Test loss: {}, Test Accuracy: {}'\n",
    "    print(template.format(epoch+1,\n",
    "                         train_loss.result(),\n",
    "                         train_accuracy.result()*100,\n",
    "                         test_loss.result(),\n",
    "                         test_accuracy.result()*100))\n",
    "    \n",
    "    train_loss.reset_states()\n",
    "    train_accuracy.reset_states()\n",
    "    test_loss.reset_states()\n",
    "    test_accuracy.reset_states()\n",
    "    "
   ]
  },
  {
   "cell_type": "code",
   "execution_count": 16,
   "metadata": {},
   "outputs": [],
   "source": [
    "earlystopper = tf.keras.callbacks.EarlyStopping(monitor=\"val_loss\", patience=10, verbose=1)"
   ]
  },
  {
   "cell_type": "code",
   "execution_count": 19,
   "metadata": {},
   "outputs": [
    {
     "name": "stdout",
     "output_type": "stream",
     "text": [
      "Train for 782 steps, validate for 782 steps\n",
      "Epoch 1/10\n",
      "782/782 [==============================] - 34s 43ms/step - loss: 0.5250 - accuracy: 0.7274 - val_loss: 0.4400 - val_accuracy: 0.7916\n",
      "Epoch 2/10\n",
      "782/782 [==============================] - 30s 39ms/step - loss: 0.3939 - accuracy: 0.8235 - val_loss: 0.4450 - val_accuracy: 0.7912\n",
      "Epoch 3/10\n",
      "782/782 [==============================] - 30s 38ms/step - loss: 0.3491 - accuracy: 0.8493 - val_loss: 0.5085 - val_accuracy: 0.7811\n",
      "Epoch 4/10\n",
      "782/782 [==============================] - 30s 38ms/step - loss: 0.3180 - accuracy: 0.8657 - val_loss: 0.4639 - val_accuracy: 0.7835\n",
      "Epoch 5/10\n",
      "782/782 [==============================] - 30s 38ms/step - loss: 0.2871 - accuracy: 0.8821 - val_loss: 0.5122 - val_accuracy: 0.7813\n",
      "Epoch 6/10\n",
      "782/782 [==============================] - 30s 38ms/step - loss: 0.2549 - accuracy: 0.8978 - val_loss: 0.5429 - val_accuracy: 0.7777\n",
      "Epoch 7/10\n",
      "782/782 [==============================] - 30s 39ms/step - loss: 0.2164 - accuracy: 0.9129 - val_loss: 0.6017 - val_accuracy: 0.7694\n",
      "Epoch 8/10\n",
      "782/782 [==============================] - 29s 38ms/step - loss: 0.1927 - accuracy: 0.9243 - val_loss: 0.6242 - val_accuracy: 0.7664\n",
      "Epoch 9/10\n",
      "782/782 [==============================] - 30s 38ms/step - loss: 0.1646 - accuracy: 0.9372 - val_loss: 0.7367 - val_accuracy: 0.7650\n",
      "Epoch 10/10\n",
      "782/782 [==============================] - 31s 39ms/step - loss: 0.1442 - accuracy: 0.9446 - val_loss: 0.7136 - val_accuracy: 0.7622\n"
     ]
    }
   ],
   "source": [
    "model = MyModel()\n",
    "model.compile(optimizer=\"adam\", loss=\"binary_crossentropy\", metrics=['accuracy'])\n",
    "\n",
    "history = model.fit(train_ds, validation_data=test_ds, epochs=EPOCHS, callbacks=[earlystopper])"
   ]
  },
  {
   "cell_type": "code",
   "execution_count": 23,
   "metadata": {},
   "outputs": [
    {
     "name": "stdout",
     "output_type": "stream",
     "text": [
      "25000/25000 [==============================] - 5s 202us/sample - loss: 0.7136 - accuracy: 0.7622\n"
     ]
    }
   ],
   "source": [
    "score, acc = model.evaluate(x_test, y_test,batch_size=32)"
   ]
  },
  {
   "cell_type": "code",
   "execution_count": 24,
   "metadata": {},
   "outputs": [
    {
     "name": "stdout",
     "output_type": "stream",
     "text": [
      "Test Score:  0.713602087612152\n",
      "Test Accuracy:  0.76216\n"
     ]
    }
   ],
   "source": [
    "print(\"Test Score: \", score)\n",
    "print(\"Test Accuracy: \", acc)"
   ]
  },
  {
   "cell_type": "code",
   "execution_count": 21,
   "metadata": {},
   "outputs": [
    {
     "data": {
      "image/png": "[encoded data removed]",
      "text/plain": [
       "<Figure size 432x288 with 1 Axes>"
      ]
     },
     "metadata": {
      "needs_background": "light"
     },
     "output_type": "display_data"
    }
   ],
   "source": [
    "import matplotlib.pyplot as plt\n",
    "%matplotlib inline\n",
    "\n",
    "loss = history.history['loss']\n",
    "val_loss = history.history['val_loss']\n",
    "\n",
    "plt.figure()\n",
    "plt.plot(loss, 'ro-', label=\"train_loss\")\n",
    "plt.plot(val_loss, 'bo-', label=\"val_loss\")\n",
    "plt.ylabel('Cross Entropy')\n",
    "plt.xlabel('Epoch')\n",
    "plt.legend(loc=\"best\")\n",
    "plt.title('Training and Validation Loss')\n",
    "plt.show()"
   ]
  },
  {
   "cell_type": "code",
   "execution_count": 25,
   "metadata": {},
   "outputs": [],
   "source": [
    "# Model weight matrix 저장.\n",
    "model.save_weights(\"nsmc_keras_simplelstm\")"
   ]
  },
  {
   "cell_type": "code",
   "execution_count": null,
   "metadata": {},
   "outputs": [],
   "source": []
  }
 ],
 "metadata": {
  "kernelspec": {
   "display_name": "Python 3",
   "language": "python",
   "name": "python3"
  },
  "language_info": {
   "codemirror_mode": {
    "name": "ipython",
    "version": 3
   },
   "file_extension": ".py",
   "mimetype": "text/x-python",
   "name": "python",
   "nbconvert_exporter": "python",
   "pygments_lexer": "ipython3",
   "version": "3.7.4"
  }
 },
 "nbformat": 4,
 "nbformat_minor": 2
}
